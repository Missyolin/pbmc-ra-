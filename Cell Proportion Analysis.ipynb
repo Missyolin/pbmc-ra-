{
 "cells": [
  {
   "cell_type": "code",
   "execution_count": 1,
   "id": "cb4d0945-c29a-43b6-9e02-31458fe1a43f",
   "metadata": {
    "vscode": {
     "languageId": "r"
    }
   },
   "outputs": [
    {
     "name": "stderr",
     "output_type": "stream",
     "text": [
      "Loading required package: SeuratObject\n",
      "\n",
      "Loading required package: sp\n",
      "\n",
      "'SeuratObject' was built under R 4.4.1 but the current version is\n",
      "4.4.2; it is recomended that you reinstall 'SeuratObject' as the ABI\n",
      "for R may have changed\n",
      "\n",
      "\n",
      "Attaching package: 'SeuratObject'\n",
      "\n",
      "\n",
      "The following objects are masked from 'package:base':\n",
      "\n",
      "    intersect, t\n",
      "\n",
      "\n",
      "\n",
      "Attaching package: 'dplyr'\n",
      "\n",
      "\n",
      "The following objects are masked from 'package:stats':\n",
      "\n",
      "    filter, lag\n",
      "\n",
      "\n",
      "The following objects are masked from 'package:base':\n",
      "\n",
      "    intersect, setdiff, setequal, union\n",
      "\n",
      "\n"
     ]
    }
   ],
   "source": [
    "library(Seurat)\n",
    "library(ggplot2)\n",
    "library(dplyr)\n",
    "library(stringr)\n",
    "library(tidyr)"
   ]
  },
  {
   "cell_type": "code",
   "execution_count": 2,
   "id": "d3e739e6-47d7-421b-8d9d-af2b58fb8823",
   "metadata": {
    "vscode": {
     "languageId": "r"
    }
   },
   "outputs": [],
   "source": [
    "data <- readRDS(\"pbmc_ra_QC.rds\")"
   ]
  },
  {
   "cell_type": "code",
   "execution_count": 3,
   "id": "5602aa2e-e4d3-4be9-be17-3667c3705dda",
   "metadata": {
    "vscode": {
     "languageId": "r"
    }
   },
   "outputs": [],
   "source": [
    "# Menghitung jumlah total sel per donor_id dan disease\n",
    "total_cell_count <- data@meta.data %>%\n",
    "  group_by(donor_id, disease) %>%\n",
    "  summarise(total_cells = sum(n()), .groups = \"drop\")  # Total sel dalam setiap sample"
   ]
  },
  {
   "cell_type": "code",
   "execution_count": 4,
   "id": "5f31ca5e-f195-4fe7-812e-80e74f5d6c0a",
   "metadata": {
    "vscode": {
     "languageId": "r"
    }
   },
   "outputs": [],
   "source": [
    "# Menggabungkan total_cell_count dengan final_data untuk menghitung proporsi\n",
    "final_data_with_proportion <- data@meta.data %>%\n",
    "  group_by(donor_id, disease, rough_annot, fine_annot) %>%\n",
    "  summarise(cell_count = n(), .groups = \"drop\") %>%\n",
    "  left_join(total_cell_count, by = c(\"donor_id\", \"disease\")) %>%\n",
    "  mutate(proportion = cell_count / total_cells)  # Hitung proporsi"
   ]
  },
  {
   "cell_type": "code",
   "execution_count": 15,
   "id": "5b175a43-726a-4fbf-b2dc-d243394ecd80",
   "metadata": {
    "vscode": {
     "languageId": "r"
    }
   },
   "outputs": [],
   "source": [
    "calculate_p_value <- function(data) {\n",
    "  # Periksa jika data memiliki dua grup disease\n",
    "  if(length(unique(data$disease)) == 2) {\n",
    "    # Tambahkan exact = FALSE untuk menangani ties\n",
    "    wilcox_test_result <- wilcox.test(cell_count ~ disease, data = data, exact = FALSE)\n",
    "    return(wilcox_test_result$p.value)\n",
    "  } else {\n",
    "    return(NA)  # Jika hanya ada satu grup disease, return NA\n",
    "  }\n",
    "}"
   ]
  },
  {
   "cell_type": "code",
   "execution_count": 16,
   "id": "2d829f9a-1da1-45ab-8442-7f6a7b6297c3",
   "metadata": {
    "vscode": {
     "languageId": "r"
    }
   },
   "outputs": [],
   "source": [
    "library(dplyr)\n",
    "library(purrr)\n",
    "\n",
    "final_data_with_pvalue <- final_data_with_proportion %>%\n",
    "  group_split(fine_annot) %>%\n",
    "  map_dfr(~ data.frame(\n",
    "    fine_annot = unique(.x$fine_annot),\n",
    "    p_value = calculate_p_value(.x)\n",
    "  ))"
   ]
  },
  {
   "cell_type": "code",
   "execution_count": 17,
   "id": "7c0ab418",
   "metadata": {
    "vscode": {
     "languageId": "r"
    }
   },
   "outputs": [
    {
     "data": {
      "text/html": [
       "<table class=\"dataframe\">\n",
       "<caption>A tibble: 36 × 3</caption>\n",
       "<thead>\n",
       "\t<tr><th scope=col>fine_annot</th><th scope=col>disease</th><th scope=col>n_unique</th></tr>\n",
       "\t<tr><th scope=col>&lt;fct&gt;</th><th scope=col>&lt;fct&gt;</th><th scope=col>&lt;int&gt;</th></tr>\n",
       "</thead>\n",
       "<tbody>\n",
       "\t<tr><td>CD4 T central memory   </td><td>rheumatoid arthritis</td><td>17</td></tr>\n",
       "\t<tr><td>CD4 T central memory   </td><td>normal              </td><td>18</td></tr>\n",
       "\t<tr><td>CD4 T effector memory  </td><td>rheumatoid arthritis</td><td>16</td></tr>\n",
       "\t<tr><td>CD4 T effector memory  </td><td>normal              </td><td>16</td></tr>\n",
       "\t<tr><td>CD4 T IFIT             </td><td>rheumatoid arthritis</td><td> 6</td></tr>\n",
       "\t<tr><td>CD4 T IFIT             </td><td>normal              </td><td> 6</td></tr>\n",
       "\t<tr><td>CD4 T Naive            </td><td>rheumatoid arthritis</td><td>16</td></tr>\n",
       "\t<tr><td>CD4 T Naive            </td><td>normal              </td><td>16</td></tr>\n",
       "\t<tr><td>yd T cells             </td><td>rheumatoid arthritis</td><td> 9</td></tr>\n",
       "\t<tr><td>yd T cells             </td><td>normal              </td><td> 9</td></tr>\n",
       "\t<tr><td>CD8 T early Tem        </td><td>rheumatoid arthritis</td><td>12</td></tr>\n",
       "\t<tr><td>CD8 T early Tem        </td><td>normal              </td><td>10</td></tr>\n",
       "\t<tr><td>CD8 T Naive            </td><td>rheumatoid arthritis</td><td>12</td></tr>\n",
       "\t<tr><td>CD8 T Naive            </td><td>normal              </td><td> 9</td></tr>\n",
       "\t<tr><td>CD8 TEMRA              </td><td>rheumatoid arthritis</td><td> 9</td></tr>\n",
       "\t<tr><td>CD8 TEMRA              </td><td>normal              </td><td>10</td></tr>\n",
       "\t<tr><td>Classical Monocytes    </td><td>rheumatoid arthritis</td><td>17</td></tr>\n",
       "\t<tr><td>Classical Monocytes    </td><td>normal              </td><td>18</td></tr>\n",
       "\t<tr><td>IFITM3 Monocytes       </td><td>rheumatoid arthritis</td><td> 6</td></tr>\n",
       "\t<tr><td>IFITM3 Monocytes       </td><td>normal              </td><td> 5</td></tr>\n",
       "\t<tr><td>IL1b-Monocytes         </td><td>rheumatoid arthritis</td><td>16</td></tr>\n",
       "\t<tr><td>IL1b-Monocytes         </td><td>normal              </td><td>16</td></tr>\n",
       "\t<tr><td>Myeloid DCs            </td><td>rheumatoid arthritis</td><td>17</td></tr>\n",
       "\t<tr><td>Myeloid DCs            </td><td>normal              </td><td>17</td></tr>\n",
       "\t<tr><td>Non-classical Monocytes</td><td>rheumatoid arthritis</td><td>13</td></tr>\n",
       "\t<tr><td>Non-classical Monocytes</td><td>normal              </td><td>15</td></tr>\n",
       "\t<tr><td>NKCD56bright           </td><td>rheumatoid arthritis</td><td>11</td></tr>\n",
       "\t<tr><td>NKCD56bright           </td><td>normal              </td><td>12</td></tr>\n",
       "\t<tr><td>NKCD56low              </td><td>rheumatoid arthritis</td><td>10</td></tr>\n",
       "\t<tr><td>NKCD56low              </td><td>normal              </td><td>13</td></tr>\n",
       "\t<tr><td>Memory Bcells          </td><td>rheumatoid arthritis</td><td>13</td></tr>\n",
       "\t<tr><td>Memory Bcells          </td><td>normal              </td><td>14</td></tr>\n",
       "\t<tr><td>Naive Bcells           </td><td>rheumatoid arthritis</td><td>13</td></tr>\n",
       "\t<tr><td>Naive Bcells           </td><td>normal              </td><td>13</td></tr>\n",
       "\t<tr><td>Plasmablasts           </td><td>rheumatoid arthritis</td><td>12</td></tr>\n",
       "\t<tr><td>Plasmablasts           </td><td>normal              </td><td>15</td></tr>\n",
       "</tbody>\n",
       "</table>\n"
      ],
      "text/latex": [
       "A tibble: 36 × 3\n",
       "\\begin{tabular}{lll}\n",
       " fine\\_annot & disease & n\\_unique\\\\\n",
       " <fct> & <fct> & <int>\\\\\n",
       "\\hline\n",
       "\t CD4 T central memory    & rheumatoid arthritis & 17\\\\\n",
       "\t CD4 T central memory    & normal               & 18\\\\\n",
       "\t CD4 T effector memory   & rheumatoid arthritis & 16\\\\\n",
       "\t CD4 T effector memory   & normal               & 16\\\\\n",
       "\t CD4 T IFIT              & rheumatoid arthritis &  6\\\\\n",
       "\t CD4 T IFIT              & normal               &  6\\\\\n",
       "\t CD4 T Naive             & rheumatoid arthritis & 16\\\\\n",
       "\t CD4 T Naive             & normal               & 16\\\\\n",
       "\t yd T cells              & rheumatoid arthritis &  9\\\\\n",
       "\t yd T cells              & normal               &  9\\\\\n",
       "\t CD8 T early Tem         & rheumatoid arthritis & 12\\\\\n",
       "\t CD8 T early Tem         & normal               & 10\\\\\n",
       "\t CD8 T Naive             & rheumatoid arthritis & 12\\\\\n",
       "\t CD8 T Naive             & normal               &  9\\\\\n",
       "\t CD8 TEMRA               & rheumatoid arthritis &  9\\\\\n",
       "\t CD8 TEMRA               & normal               & 10\\\\\n",
       "\t Classical Monocytes     & rheumatoid arthritis & 17\\\\\n",
       "\t Classical Monocytes     & normal               & 18\\\\\n",
       "\t IFITM3 Monocytes        & rheumatoid arthritis &  6\\\\\n",
       "\t IFITM3 Monocytes        & normal               &  5\\\\\n",
       "\t IL1b-Monocytes          & rheumatoid arthritis & 16\\\\\n",
       "\t IL1b-Monocytes          & normal               & 16\\\\\n",
       "\t Myeloid DCs             & rheumatoid arthritis & 17\\\\\n",
       "\t Myeloid DCs             & normal               & 17\\\\\n",
       "\t Non-classical Monocytes & rheumatoid arthritis & 13\\\\\n",
       "\t Non-classical Monocytes & normal               & 15\\\\\n",
       "\t NKCD56bright            & rheumatoid arthritis & 11\\\\\n",
       "\t NKCD56bright            & normal               & 12\\\\\n",
       "\t NKCD56low               & rheumatoid arthritis & 10\\\\\n",
       "\t NKCD56low               & normal               & 13\\\\\n",
       "\t Memory Bcells           & rheumatoid arthritis & 13\\\\\n",
       "\t Memory Bcells           & normal               & 14\\\\\n",
       "\t Naive Bcells            & rheumatoid arthritis & 13\\\\\n",
       "\t Naive Bcells            & normal               & 13\\\\\n",
       "\t Plasmablasts            & rheumatoid arthritis & 12\\\\\n",
       "\t Plasmablasts            & normal               & 15\\\\\n",
       "\\end{tabular}\n"
      ],
      "text/markdown": [
       "\n",
       "A tibble: 36 × 3\n",
       "\n",
       "| fine_annot &lt;fct&gt; | disease &lt;fct&gt; | n_unique &lt;int&gt; |\n",
       "|---|---|---|\n",
       "| CD4 T central memory    | rheumatoid arthritis | 17 |\n",
       "| CD4 T central memory    | normal               | 18 |\n",
       "| CD4 T effector memory   | rheumatoid arthritis | 16 |\n",
       "| CD4 T effector memory   | normal               | 16 |\n",
       "| CD4 T IFIT              | rheumatoid arthritis |  6 |\n",
       "| CD4 T IFIT              | normal               |  6 |\n",
       "| CD4 T Naive             | rheumatoid arthritis | 16 |\n",
       "| CD4 T Naive             | normal               | 16 |\n",
       "| yd T cells              | rheumatoid arthritis |  9 |\n",
       "| yd T cells              | normal               |  9 |\n",
       "| CD8 T early Tem         | rheumatoid arthritis | 12 |\n",
       "| CD8 T early Tem         | normal               | 10 |\n",
       "| CD8 T Naive             | rheumatoid arthritis | 12 |\n",
       "| CD8 T Naive             | normal               |  9 |\n",
       "| CD8 TEMRA               | rheumatoid arthritis |  9 |\n",
       "| CD8 TEMRA               | normal               | 10 |\n",
       "| Classical Monocytes     | rheumatoid arthritis | 17 |\n",
       "| Classical Monocytes     | normal               | 18 |\n",
       "| IFITM3 Monocytes        | rheumatoid arthritis |  6 |\n",
       "| IFITM3 Monocytes        | normal               |  5 |\n",
       "| IL1b-Monocytes          | rheumatoid arthritis | 16 |\n",
       "| IL1b-Monocytes          | normal               | 16 |\n",
       "| Myeloid DCs             | rheumatoid arthritis | 17 |\n",
       "| Myeloid DCs             | normal               | 17 |\n",
       "| Non-classical Monocytes | rheumatoid arthritis | 13 |\n",
       "| Non-classical Monocytes | normal               | 15 |\n",
       "| NKCD56bright            | rheumatoid arthritis | 11 |\n",
       "| NKCD56bright            | normal               | 12 |\n",
       "| NKCD56low               | rheumatoid arthritis | 10 |\n",
       "| NKCD56low               | normal               | 13 |\n",
       "| Memory Bcells           | rheumatoid arthritis | 13 |\n",
       "| Memory Bcells           | normal               | 14 |\n",
       "| Naive Bcells            | rheumatoid arthritis | 13 |\n",
       "| Naive Bcells            | normal               | 13 |\n",
       "| Plasmablasts            | rheumatoid arthritis | 12 |\n",
       "| Plasmablasts            | normal               | 15 |\n",
       "\n"
      ],
      "text/plain": [
       "   fine_annot              disease              n_unique\n",
       "1  CD4 T central memory    rheumatoid arthritis 17      \n",
       "2  CD4 T central memory    normal               18      \n",
       "3  CD4 T effector memory   rheumatoid arthritis 16      \n",
       "4  CD4 T effector memory   normal               16      \n",
       "5  CD4 T IFIT              rheumatoid arthritis  6      \n",
       "6  CD4 T IFIT              normal                6      \n",
       "7  CD4 T Naive             rheumatoid arthritis 16      \n",
       "8  CD4 T Naive             normal               16      \n",
       "9  yd T cells              rheumatoid arthritis  9      \n",
       "10 yd T cells              normal                9      \n",
       "11 CD8 T early Tem         rheumatoid arthritis 12      \n",
       "12 CD8 T early Tem         normal               10      \n",
       "13 CD8 T Naive             rheumatoid arthritis 12      \n",
       "14 CD8 T Naive             normal                9      \n",
       "15 CD8 TEMRA               rheumatoid arthritis  9      \n",
       "16 CD8 TEMRA               normal               10      \n",
       "17 Classical Monocytes     rheumatoid arthritis 17      \n",
       "18 Classical Monocytes     normal               18      \n",
       "19 IFITM3 Monocytes        rheumatoid arthritis  6      \n",
       "20 IFITM3 Monocytes        normal                5      \n",
       "21 IL1b-Monocytes          rheumatoid arthritis 16      \n",
       "22 IL1b-Monocytes          normal               16      \n",
       "23 Myeloid DCs             rheumatoid arthritis 17      \n",
       "24 Myeloid DCs             normal               17      \n",
       "25 Non-classical Monocytes rheumatoid arthritis 13      \n",
       "26 Non-classical Monocytes normal               15      \n",
       "27 NKCD56bright            rheumatoid arthritis 11      \n",
       "28 NKCD56bright            normal               12      \n",
       "29 NKCD56low               rheumatoid arthritis 10      \n",
       "30 NKCD56low               normal               13      \n",
       "31 Memory Bcells           rheumatoid arthritis 13      \n",
       "32 Memory Bcells           normal               14      \n",
       "33 Naive Bcells            rheumatoid arthritis 13      \n",
       "34 Naive Bcells            normal               13      \n",
       "35 Plasmablasts            rheumatoid arthritis 12      \n",
       "36 Plasmablasts            normal               15      "
      ]
     },
     "metadata": {},
     "output_type": "display_data"
    }
   ],
   "source": [
    "final_data_with_proportion %>%\n",
    "  group_by(fine_annot, disease) %>%\n",
    "  summarise(n_unique = n_distinct(cell_count), .groups = \"drop\")"
   ]
  },
  {
   "cell_type": "code",
   "execution_count": 20,
   "id": "14f7582d-698e-414b-a4b9-4350f3a42c28",
   "metadata": {
    "vscode": {
     "languageId": "r"
    }
   },
   "outputs": [
    {
     "name": "stderr",
     "output_type": "stream",
     "text": [
      "\u001b[1m\u001b[22mSaving 7 x 7 in image\n",
      "\u001b[1m\u001b[22mSaving 7 x 7 in image\n",
      "\u001b[1m\u001b[22mSaving 7 x 7 in image\n",
      "\u001b[1m\u001b[22mSaving 7 x 7 in image\n",
      "\u001b[1m\u001b[22mSaving 7 x 7 in image\n",
      "\u001b[1m\u001b[22mSaving 7 x 7 in image\n",
      "\u001b[1m\u001b[22mSaving 7 x 7 in image\n",
      "\u001b[1m\u001b[22mSaving 7 x 7 in image\n",
      "\u001b[1m\u001b[22mSaving 7 x 7 in image\n",
      "\u001b[1m\u001b[22mSaving 7 x 7 in image\n",
      "\u001b[1m\u001b[22mSaving 7 x 7 in image\n",
      "\u001b[1m\u001b[22mSaving 7 x 7 in image\n",
      "\u001b[1m\u001b[22mSaving 7 x 7 in image\n",
      "\u001b[1m\u001b[22mSaving 7 x 7 in image\n",
      "\u001b[1m\u001b[22mSaving 7 x 7 in image\n",
      "\u001b[1m\u001b[22mSaving 7 x 7 in image\n",
      "\u001b[1m\u001b[22mSaving 7 x 7 in image\n",
      "\u001b[1m\u001b[22mSaving 7 x 7 in image\n"
     ]
    }
   ],
   "source": [
    "# Daftar semua unique fine_annot\n",
    "fine_annot_list <- unique(final_data_with_proportion$fine_annot)\n",
    "\n",
    "# Loop untuk setiap fine_annot\n",
    "for (annot in fine_annot_list) {\n",
    "  # Filter data untuk fine_annot yang sedang diproses\n",
    "  plot_data <- final_data_with_proportion %>% filter(fine_annot == annot)\n",
    "  \n",
    "  # Membuat plot untuk setiap fine_annot\n",
    "  p <- ggplot(plot_data, aes(x = disease, y = proportion, fill = disease)) +\n",
    "    geom_boxplot(outlier.shape = NA) +  # Menyembunyikan outlier di boxplot\n",
    "    geom_jitter(width = 0.3, size = 7, aes(color = disease)) +  # Menambahkan titik sampel dengan jitter\n",
    "    theme_minimal() +\n",
    "    labs(\n",
    "      title = annot,  # Mengganti judul dengan nama fine_annot\n",
    "      x = \"Disease\", \n",
    "      y = \"Proportion of Cells\") +\n",
    "    theme(\n",
    "      axis.line = element_line(color = \"black\"),\n",
    "      axis.text.x = element_text(size=20),  # Menyembunyikan label sumbu X\n",
    "      axis.title.x = element_blank(),  # Menyembunyikan judul sumbu X\n",
    "      axis.text.y = element_text(size=18),  # Menyembunyikan judul sumbu X\n",
    "      axis.title.y = element_text(size=20),  # Menyembunyikan judul sumbu X\n",
    "      strip.text = element_text(size = 12, margin = margin(b = 20)),  # Menambah jarak bawah antar facet titles\n",
    "      plot.title = element_text(size=20, hjust = 0.5),\n",
    "      legend.position = \"none\",\n",
    "      panel.grid = element_blank()\n",
    "    ) +\n",
    "    scale_fill_manual(values = c(\"white\", \"white\")) +  # Setel warna boxplot berdasarkan penyakit\n",
    "    scale_color_manual(values = c(\"blue\", \"orange\"))  # Setel warna titik berdasarkan penyakit\n",
    "  \n",
    "  # Menambahkan p-value untuk fine_annot yang sedang diproses\n",
    "  p <- p + geom_text(aes(x = 1.5, y = Inf, label = paste(\"p-value: \", round(p_value, 3))), \n",
    "                     data = final_data_with_pvalue %>% filter(fine_annot == annot), \n",
    "                     inherit.aes = FALSE,\n",
    "                     size = 7, hjust = 0.5, vjust = 3)  # Mengatur posisi p-value\n",
    "\n",
    "  # Menyimpan grafik untuk setiap fine_annot\n",
    "  ggsave(paste0(annot, \"_proportion.png\"), plot = p)\n",
    "}"
   ]
  },
  {
   "cell_type": "code",
   "execution_count": 54,
   "id": "6c04c2a4-1676-491b-aa94-f44f6a9de47d",
   "metadata": {
    "vscode": {
     "languageId": "r"
    }
   },
   "outputs": [
    {
     "name": "stderr",
     "output_type": "stream",
     "text": [
      "\u001b[1m\u001b[22mSaving 7 x 7 in image\n",
      "\u001b[1m\u001b[22mSaving 7 x 7 in image\n",
      "\u001b[1m\u001b[22mSaving 7 x 7 in image\n",
      "\u001b[1m\u001b[22mSaving 7 x 7 in image\n",
      "\u001b[1m\u001b[22mSaving 7 x 7 in image\n"
     ]
    }
   ],
   "source": [
    "# Daftar kategori dalam rough_annot\n",
    "rough_annot_levels <- unique(final_data_with_proportion$rough_annot)\n",
    "\n",
    "# Warna yang sesuai untuk setiap kategori rough_annot\n",
    "color_palette <- list(\n",
    "  \"NKcells\" = c(\"#730255\", \"#444DF2\"), \n",
    "  \"CD8Tcells\" = c(\"#053959\", \"#07B0F2\", \"#05DBF2\"),\n",
    "  \"Bcells\" = c(\"#728C14\", \"#B5BF6B\", \"#D97171\"),\n",
    "  \"CD4Tcells\" = c(\"#F20544\", \"#0F88F2\", \"#F2E74B\", \"#F2A007\", \"#F25C05\"),\n",
    "  \"Monocytes\" = c(\"#F24162\", \"#F2ACEE\", \"#7F58A6\", \"#F2C12E\", \"#F2AD94\")\n",
    ")\n",
    "\n",
    "for (cell_type in rough_annot_levels) {\n",
    "  \n",
    "  # Filter data berdasarkan kategori cell_type\n",
    "  Cell <- final_data_with_proportion %>% \n",
    "    filter(rough_annot == cell_type)\n",
    "  \n",
    "  # Membuat ggplot untuk setiap sel dengan warna yang sesuai\n",
    "  p <- ggplot(Cell, \n",
    "              aes(x = disease, y = proportion, fill = fine_annot)) +\n",
    "    # Membuat stacked bar chart\n",
    "    geom_bar(stat = \"identity\", position = \"fill\", width = 0.7) +  \n",
    "    labs(\n",
    "      title = cell_type,\n",
    "      y = \"Relative Abundance (%)\",\n",
    "      fill = \"Cell Type\"\n",
    "    ) +\n",
    "    scale_y_continuous(labels = scales::percent_format(accuracy = 1)) +  # Format persentase di sumbu Y\n",
    "    # Menentukan warna sesuai dengan kategori\n",
    "    scale_fill_manual(values = color_palette[[cell_type]]) +\n",
    "    theme_minimal() +\n",
    "    theme(\n",
    "      axis.title.x = element_blank(),  # Menampilkan judul sumbu X\n",
    "      axis.title.y = element_text(size = 12, face = \"bold\"),  # Menampilkan judul sumbu Y\n",
    "      axis.text = element_text(size = 12),  # Menyesuaikan ukuran teks sumbu\n",
    "      legend.title = element_text(size = 16),\n",
    "      legend.text = element_text(size = 12),\n",
    "      plot.title = element_text(hjust = 0.5, size = 16, face = \"bold\"),\n",
    "      # Menghilangkan gridlines\n",
    "      panel.grid = element_blank(),  \n",
    "      # Menambahkan garis sumbu X dan Y\n",
    "      axis.line = element_line(color = \"black\", size = 0.3)\n",
    "    )\n",
    "  \n",
    "  # Menyimpan plot ke file PNG dengan nama sesuai dengan rough_annot cell type\n",
    "  ggsave(paste0(cell_type, \"_proportion.png\"), plot = p)\n",
    "}\n"
   ]
  }
 ],
 "metadata": {
  "kernelspec": {
   "display_name": "R",
   "language": "R",
   "name": "ir"
  },
  "language_info": {
   "codemirror_mode": "r",
   "file_extension": ".r",
   "mimetype": "text/x-r-source",
   "name": "R",
   "pygments_lexer": "r",
   "version": "4.4.2"
  }
 },
 "nbformat": 4,
 "nbformat_minor": 5
}
